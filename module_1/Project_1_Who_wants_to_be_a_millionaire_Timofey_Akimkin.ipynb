{
  "nbformat": 4,
  "nbformat_minor": 0,
  "metadata": {
    "colab": {
      "name": "Project_1_Who_wants_to_be_a_millionaire_Timofey_Akimkin.ipynb",
      "provenance": [],
      "collapsed_sections": [
        "TfQbxbfNVp-p",
        "r5TvbnT_Vp-u",
        "39P-deDSVp-y",
        "M99JmIX4Vp-2",
        "wEOM5ERVVp-6",
        "xhpspA9KVp_A",
        "Zi4hDKidVp_F",
        "EA7Sa9dkVp_I",
        "T9_bPWpkVp_Q",
        "0F23bgsDVp_U",
        "PsYC9FgRVp_a",
        "PQ0KciD7Vp_f",
        "mWHyyL7QVp_j",
        "NIh6AaW5Vp_n",
        "RqOmPRfWVp_q",
        "vS8Ur6ddVp_u",
        "JAzJh4QAVp_z",
        "8Im1S2HRVp_4",
        "uAJsZ_NeVp_7",
        "G94ppOY1VqAA",
        "RBo0JVjVVqAF",
        "9G0hbvR7VqAK",
        "FJ1AFt90VqAP",
        "MdXsUXbCVqAV",
        "U0nONFnGVqAX"
      ],
      "toc_visible": true
    },
    "kernelspec": {
      "display_name": "Python 3",
      "language": "python",
      "name": "python3"
    },
    "language_info": {
      "codemirror_mode": {
        "name": "ipython",
        "version": 3
      },
      "file_extension": ".py",
      "mimetype": "text/x-python",
      "name": "python",
      "nbconvert_exporter": "python",
      "pygments_lexer": "ipython3",
      "version": "3.7.4"
    }
  },
  "cells": [
    {
      "cell_type": "markdown",
      "metadata": {
        "id": "xU3CaXKy9yvh"
      },
      "source": [
        "# Считывание датафрейма из файла"
      ]
    },
    {
      "cell_type": "code",
      "metadata": {
        "_cell_guid": "79c7e3d0-c299-4dcb-8224-4455121ee9b0",
        "_uuid": "d629ff2d2480ee46fbb7e2d37f6b5fab8052498a",
        "id": "oyGfxL3eVp9-",
        "colab": {
          "base_uri": "https://localhost:8080/",
          "height": 205
        },
        "outputId": "cfce9bd1-e334-47c3-dc3c-65b8b8b43585"
      },
      "source": [
        "import numpy as np\n",
        "import pandas as pd\n",
        "import datetime as dt\n",
        "from itertools import combinations\n",
        "\n",
        "data = pd.read_csv('movie_bd_v5.csv')\n",
        "data.sample(1)"
      ],
      "execution_count": null,
      "outputs": [
        {
          "output_type": "execute_result",
          "data": {
            "text/html": [
              "<div>\n",
              "<style scoped>\n",
              "    .dataframe tbody tr th:only-of-type {\n",
              "        vertical-align: middle;\n",
              "    }\n",
              "\n",
              "    .dataframe tbody tr th {\n",
              "        vertical-align: top;\n",
              "    }\n",
              "\n",
              "    .dataframe thead th {\n",
              "        text-align: right;\n",
              "    }\n",
              "</style>\n",
              "<table border=\"1\" class=\"dataframe\">\n",
              "  <thead>\n",
              "    <tr style=\"text-align: right;\">\n",
              "      <th></th>\n",
              "      <th>imdb_id</th>\n",
              "      <th>budget</th>\n",
              "      <th>revenue</th>\n",
              "      <th>original_title</th>\n",
              "      <th>cast</th>\n",
              "      <th>director</th>\n",
              "      <th>tagline</th>\n",
              "      <th>overview</th>\n",
              "      <th>runtime</th>\n",
              "      <th>genres</th>\n",
              "      <th>production_companies</th>\n",
              "      <th>release_date</th>\n",
              "      <th>vote_average</th>\n",
              "      <th>release_year</th>\n",
              "    </tr>\n",
              "  </thead>\n",
              "  <tbody>\n",
              "    <tr>\n",
              "      <th>1380</th>\n",
              "      <td>tt0399146</td>\n",
              "      <td>32000000</td>\n",
              "      <td>60740827</td>\n",
              "      <td>A History of Violence</td>\n",
              "      <td>Viggo Mortensen|Maria Bello|Heidi Hayes|Ashton...</td>\n",
              "      <td>David Cronenberg</td>\n",
              "      <td>Tom Stall had the perfect life... until he bec...</td>\n",
              "      <td>An average family is thrust into the spotlight...</td>\n",
              "      <td>96</td>\n",
              "      <td>Drama|Thriller|Crime</td>\n",
              "      <td>New Line Cinema|DC Comics|BenderSpink</td>\n",
              "      <td>9/23/2005</td>\n",
              "      <td>6.7</td>\n",
              "      <td>2005</td>\n",
              "    </tr>\n",
              "  </tbody>\n",
              "</table>\n",
              "</div>"
            ],
            "text/plain": [
              "        imdb_id    budget   revenue  ... release_date vote_average release_year\n",
              "1380  tt0399146  32000000  60740827  ...    9/23/2005          6.7         2005\n",
              "\n",
              "[1 rows x 14 columns]"
            ]
          },
          "metadata": {
            "tags": []
          },
          "execution_count": 787
        }
      ]
    },
    {
      "cell_type": "markdown",
      "metadata": {
        "id": "DTIt7ezGVp-G"
      },
      "source": [
        "# Предобработка"
      ]
    },
    {
      "cell_type": "code",
      "metadata": {
        "id": "jNb40DwKVp-H"
      },
      "source": [
        "answers = {}  # создадим словарь для ответов\n",
        "\n",
        "# здесь исправляется странное поведение Google Colab,\n",
        "# когда колонка release_date считывается то как timestamp,\n",
        "# то как string\n",
        "\n",
        "if type(data.release_date[0]) == str:\n",
        "    data.release_date = data.release_date.apply(\n",
        "        lambda x: dt.datetime.strptime(x, '%m/%d/%Y')) \n",
        "\n",
        "# добавляем колонку прибыли от проката 'profit'\n",
        "data['profit'] = data.revenue - data.budget\n",
        "\n",
        "# добавляем колонку месяца релиза фильма - 'month'\n",
        "data['month'] = data.release_date.apply(lambda x: x.month)\n",
        "\n",
        "# словарь для сопоставления номера месяца и его названия на русском\n",
        "# для 21-го вопроса\n",
        "months = {\n",
        "    1: 'январь',\n",
        "    2: 'февраль',\n",
        "    3: 'март',\n",
        "    4: 'апрель',\n",
        "    5: 'май',\n",
        "    6: 'июнь',\n",
        "    7: 'июль',\n",
        "    8: 'август',\n",
        "    9: 'сентябрь',\n",
        "   10: 'октябрь',\n",
        "   11: 'ноябрь',\n",
        "   12: 'декабрь'\n",
        "}\n",
        "\n",
        "# добавлям к датафейму столбец с кол-вом символов в названии фильма\n",
        "data['ot_length'] = data.original_title.apply(len)\n",
        "\n",
        "# функция принимает строку, возвращает количество слов\n",
        "# в строке разделенных пробелами\n",
        "def word_count(s):\n",
        "    return len(s.split(' '))\n",
        "\n",
        "# добавлям к датафейму столбец с количеством слов в описании фильма\n",
        "# для 25-го вопроса\n",
        "data['words_in_overview'] = data.overview.apply(word_count)\n",
        "\n",
        "# the time given in the dataset is in string format. - \"That my dear Balin, is not entirely true\"\n",
        "# So we need to change this in datetime format"
      ],
      "execution_count": null,
      "outputs": []
    },
    {
      "cell_type": "markdown",
      "metadata": {
        "id": "YxZaH-nPVp-L"
      },
      "source": [
        "# 1. У какого фильма из списка самый большой бюджет?"
      ]
    },
    {
      "cell_type": "code",
      "metadata": {
        "id": "dZwb3m28Vp-S",
        "colab": {
          "base_uri": "https://localhost:8080/"
        },
        "outputId": "06bf8d10-bfcb-446b-c079-c830f8c3eb17"
      },
      "source": [
        "title1 = data[data.budget == data.budget.max()].original_title.iloc[0]\n",
        "id1 = data[data.budget == data.budget.max()].imdb_id.iloc[0]\n",
        "print(title1 + ' (' + id1 + ')')"
      ],
      "execution_count": null,
      "outputs": [
        {
          "output_type": "stream",
          "text": [
            "Pirates of the Caribbean: On Stranger Tides (tt1298650)\n"
          ],
          "name": "stdout"
        }
      ]
    },
    {
      "cell_type": "code",
      "metadata": {
        "id": "uVnXAY5RVp-O"
      },
      "source": [
        "answers['01'] = 'Pirates of the Caribbean: On Stranger Tides (tt1298650)'"
      ],
      "execution_count": null,
      "outputs": []
    },
    {
      "cell_type": "markdown",
      "metadata": {
        "id": "K7L3nbRXVp-X"
      },
      "source": [
        "ВАРИАНТ 2"
      ]
    },
    {
      "cell_type": "code",
      "metadata": {
        "id": "OGaoQI7rVp-X",
        "colab": {
          "base_uri": "https://localhost:8080/"
        },
        "outputId": "c5c8f5a8-2bd1-4209-e20a-2c5bf0963fc6"
      },
      "source": [
        "title1 = data.query('budget == budget.max()').original_title.iloc[0]\n",
        "id1 = data.query('budget == budget.max()').imdb_id.iloc[0]\n",
        "print(title1 + ' (' + id1 + ')')"
      ],
      "execution_count": null,
      "outputs": [
        {
          "output_type": "stream",
          "text": [
            "Pirates of the Caribbean: On Stranger Tides (tt1298650)\n"
          ],
          "name": "stdout"
        }
      ]
    },
    {
      "cell_type": "markdown",
      "metadata": {
        "id": "FNRbbI3vVp-c"
      },
      "source": [
        "# 2. Какой из фильмов самый длительный (в минутах)?"
      ]
    },
    {
      "cell_type": "code",
      "metadata": {
        "id": "ot-VX2XrVp-g",
        "colab": {
          "base_uri": "https://localhost:8080/"
        },
        "outputId": "140e46d2-c8d8-4413-9f92-0300681972d6"
      },
      "source": [
        "data_filtered2a = data[data.runtime == data.runtime.max()]\n",
        "\n",
        "title2a = data_filtered2a.original_title.iloc[0]\n",
        "id2a = data_filtered2a.imdb_id.iloc[0]\n",
        "\n",
        "print(title2a + ' (' + id2a + ')')"
      ],
      "execution_count": null,
      "outputs": [
        {
          "output_type": "stream",
          "text": [
            "Gods and Generals (tt0279111)\n"
          ],
          "name": "stdout"
        }
      ]
    },
    {
      "cell_type": "markdown",
      "metadata": {
        "id": "gqr5viAhRQH3"
      },
      "source": [
        "ВАРИАНТ 2"
      ]
    },
    {
      "cell_type": "code",
      "metadata": {
        "colab": {
          "base_uri": "https://localhost:8080/"
        },
        "id": "0fDqcTEHOj3k",
        "outputId": "1484b0eb-b031-4f98-96dc-0cb22938bda9"
      },
      "source": [
        "data_filtered2b = data.query('runtime == runtime.max()')\n",
        "\n",
        "title2b = data_filtered2b.original_title.iloc[0] \n",
        "id2b = data_filtered2b.imdb_id.iloc[0]\n",
        "\n",
        "print(title2b + ' (' + id2b + ')')"
      ],
      "execution_count": null,
      "outputs": [
        {
          "output_type": "stream",
          "text": [
            "Gods and Generals (tt0279111)\n"
          ],
          "name": "stdout"
        }
      ]
    },
    {
      "cell_type": "code",
      "metadata": {
        "id": "vHAoEXNTVp-d"
      },
      "source": [
        "answers['02'] = 'Gods and Generals (tt0279111)'"
      ],
      "execution_count": null,
      "outputs": []
    },
    {
      "cell_type": "markdown",
      "metadata": {
        "id": "bapLlpW8Vp-k"
      },
      "source": [
        "# 3. Какой из фильмов самый короткий (в минутах)?\n",
        "\n",
        "\n",
        "\n"
      ]
    },
    {
      "cell_type": "code",
      "metadata": {
        "id": "YBxaSHuAVp-l",
        "colab": {
          "base_uri": "https://localhost:8080/"
        },
        "outputId": "7b8e5320-0ef9-49bd-baf9-e1873fa14719"
      },
      "source": [
        "data_filtered3a = data[data.runtime == data.runtime.min()]\n",
        "\n",
        "title3a = data_filtered3a.original_title.iloc[0]\n",
        "id3a = data_filtered3a.imdb_id.iloc[0]\n",
        "\n",
        "print(title3a + ' (' + id3a + ')')\n"
      ],
      "execution_count": null,
      "outputs": [
        {
          "output_type": "stream",
          "text": [
            "Winnie the Pooh (tt1449283)\n"
          ],
          "name": "stdout"
        }
      ]
    },
    {
      "cell_type": "markdown",
      "metadata": {
        "id": "dO1V3L48RSNJ"
      },
      "source": [
        "ВАРИАНТ 2"
      ]
    },
    {
      "cell_type": "code",
      "metadata": {
        "colab": {
          "base_uri": "https://localhost:8080/"
        },
        "id": "Fk_VUwDBRZ03",
        "outputId": "362155b7-48cc-42a3-b972-7dab9fda72aa"
      },
      "source": [
        "data_filtered3b = data.query('runtime == runtime.min()')\n",
        "\n",
        "title3b = data_filtered3b.original_title.iloc[0] \n",
        "id3b = data_filtered3b.imdb_id.iloc[0]\n",
        "\n",
        "print(title3b + ' (' + id3b + ')')"
      ],
      "execution_count": null,
      "outputs": [
        {
          "output_type": "stream",
          "text": [
            "Winnie the Pooh (tt1449283)\n"
          ],
          "name": "stdout"
        }
      ]
    },
    {
      "cell_type": "code",
      "metadata": {
        "id": "YJuabOmVRig_"
      },
      "source": [
        "answers['03'] = 'Winnie the Pooh (tt1449283)'"
      ],
      "execution_count": null,
      "outputs": []
    },
    {
      "cell_type": "markdown",
      "metadata": {
        "id": "TfQbxbfNVp-p"
      },
      "source": [
        "# 4. Какова средняя длительность фильмов?\n"
      ]
    },
    {
      "cell_type": "code",
      "metadata": {
        "colab": {
          "base_uri": "https://localhost:8080/"
        },
        "id": "9zKYSwpER5KS",
        "outputId": "81ed6d19-e529-4d9e-c145-3f4b72ce13b0"
      },
      "source": [
        "print (round(data.runtime.mean()))\n"
      ],
      "execution_count": null,
      "outputs": [
        {
          "output_type": "stream",
          "text": [
            "110\n"
          ],
          "name": "stdout"
        }
      ]
    },
    {
      "cell_type": "code",
      "metadata": {
        "id": "qAzDdKo0ctaz"
      },
      "source": [
        "answers['04'] = '110'"
      ],
      "execution_count": null,
      "outputs": []
    },
    {
      "cell_type": "markdown",
      "metadata": {
        "id": "r5TvbnT_Vp-u"
      },
      "source": [
        "# 5. Каково медианное значение длительности фильмов? "
      ]
    },
    {
      "cell_type": "code",
      "metadata": {
        "id": "iBROplKnVp-v",
        "colab": {
          "base_uri": "https://localhost:8080/"
        },
        "outputId": "abd72e8e-a743-45fd-b1c8-f4415d8e97bc"
      },
      "source": [
        "print (round(data.runtime.median()))\n"
      ],
      "execution_count": null,
      "outputs": [
        {
          "output_type": "stream",
          "text": [
            "107\n"
          ],
          "name": "stdout"
        }
      ]
    },
    {
      "cell_type": "code",
      "metadata": {
        "id": "XJ_uHeDRcwcB"
      },
      "source": [
        "answers['05'] = '107'"
      ],
      "execution_count": null,
      "outputs": []
    },
    {
      "cell_type": "markdown",
      "metadata": {
        "id": "39P-deDSVp-y"
      },
      "source": [
        "# 6. Какой самый прибыльный фильм?\n",
        "#### Внимание! Здесь и далее под «прибылью» или «убытками» понимается разность между сборами и бюджетом фильма. (прибыль = сборы - бюджет) в нашем датасете это будет (profit = revenue - budget) "
      ]
    },
    {
      "cell_type": "code",
      "metadata": {
        "id": "UYZh4T9WVp-y",
        "colab": {
          "base_uri": "https://localhost:8080/"
        },
        "outputId": "d452f9cb-8f21-4b25-b3de-492b4a786b78"
      },
      "source": [
        "data_filtered6 = data.query(\"profit == profit.max()\")\n",
        "title6 = data_filtered6.original_title.iloc[0]\n",
        "id6 = data_filtered6.imdb_id.iloc[0]\n",
        "\n",
        "print(title6 + ' (' + id6 + ')')"
      ],
      "execution_count": null,
      "outputs": [
        {
          "output_type": "stream",
          "text": [
            "Avatar (tt0499549)\n"
          ],
          "name": "stdout"
        }
      ]
    },
    {
      "cell_type": "code",
      "metadata": {
        "id": "wPwuub3Xc7TL"
      },
      "source": [
        "answers['06'] = 'Avatar (tt0499549)'"
      ],
      "execution_count": null,
      "outputs": []
    },
    {
      "cell_type": "markdown",
      "metadata": {
        "id": "M99JmIX4Vp-2"
      },
      "source": [
        "# 7. Какой фильм самый убыточный? "
      ]
    },
    {
      "cell_type": "code",
      "metadata": {
        "id": "w-D2m4XPVp-3",
        "colab": {
          "base_uri": "https://localhost:8080/"
        },
        "outputId": "2286b6ef-3b10-447e-8f94-8ccc2274f89e"
      },
      "source": [
        "data_filtered7 = data.query(\"profit == profit.min()\")\n",
        "title7 = data_filtered7.original_title.iloc[0]\n",
        "id7 = data_filtered7.imdb_id.iloc[0]\n",
        "\n",
        "print(title7 + ' (' + id7 + ')')\n"
      ],
      "execution_count": null,
      "outputs": [
        {
          "output_type": "stream",
          "text": [
            "The Lone Ranger (tt1210819)\n"
          ],
          "name": "stdout"
        }
      ]
    },
    {
      "cell_type": "code",
      "metadata": {
        "id": "kbVJDLmadHlK"
      },
      "source": [
        "answers['07'] = 'The Lone Ranger (tt1210819)'"
      ],
      "execution_count": null,
      "outputs": []
    },
    {
      "cell_type": "markdown",
      "metadata": {
        "id": "wEOM5ERVVp-6"
      },
      "source": [
        "# 8. У скольких фильмов из датасета объем сборов оказался выше бюджета?"
      ]
    },
    {
      "cell_type": "code",
      "metadata": {
        "id": "y00_7HD6Vp-7",
        "colab": {
          "base_uri": "https://localhost:8080/"
        },
        "outputId": "cbdd1d12-b2e1-4e02-e085-78f8fe6e4d76"
      },
      "source": [
        "data_filtered8 = data.query(\"profit > 0\")\n",
        "print(len(data_filtered8))\n"
      ],
      "execution_count": null,
      "outputs": [
        {
          "output_type": "stream",
          "text": [
            "1478\n"
          ],
          "name": "stdout"
        }
      ]
    },
    {
      "cell_type": "code",
      "metadata": {
        "id": "uzW4YMoVbXKY"
      },
      "source": [
        "answers['08'] = 1478"
      ],
      "execution_count": null,
      "outputs": []
    },
    {
      "cell_type": "markdown",
      "metadata": {
        "id": "xhpspA9KVp_A"
      },
      "source": [
        "# 9. Какой фильм оказался самым кассовым в 2008 году?"
      ]
    },
    {
      "cell_type": "code",
      "metadata": {
        "id": "MoUyQr9RVp_B",
        "colab": {
          "base_uri": "https://localhost:8080/"
        },
        "outputId": "aa198b66-fc14-4741-ee56-7021ce4a7f83"
      },
      "source": [
        "data_2008 = data.query(\n",
        "    \"release_year == 2008\").query(\"revenue == revenue.max()\")\n",
        "\n",
        "print(data_2008.original_title.iloc[0] + ' (' +\n",
        "      data_2008.imdb_id.iloc[0] + ')'\n",
        ")\n"
      ],
      "execution_count": null,
      "outputs": [
        {
          "output_type": "stream",
          "text": [
            "The Dark Knight (tt0468569)\n"
          ],
          "name": "stdout"
        }
      ]
    },
    {
      "cell_type": "code",
      "metadata": {
        "id": "x7x2T2aNeHNo"
      },
      "source": [
        "answers['09'] = 'The Dark Knight'"
      ],
      "execution_count": null,
      "outputs": []
    },
    {
      "cell_type": "markdown",
      "metadata": {
        "id": "Zi4hDKidVp_F"
      },
      "source": [
        "# 10. Самый убыточный фильм за период с 2012 по 2014 г. (включительно)?\n"
      ]
    },
    {
      "cell_type": "code",
      "metadata": {
        "id": "XqyRmufJVp_F",
        "colab": {
          "base_uri": "https://localhost:8080/"
        },
        "outputId": "a717542c-5e1e-411e-f48a-df8d5d426171"
      },
      "source": [
        "data_filtered10 = data.query(\n",
        "    \"(release_year >= 2012) & (release_year <= 2014)\"\n",
        "    ).query(\"profit == profit.min()\")\n",
        "\n",
        "print(\n",
        "    data_filtered10.original_title.iloc[0] + ' (' + \n",
        "    data_filtered10.imdb_id.iloc[0] + ')'\n",
        ")\n"
      ],
      "execution_count": null,
      "outputs": [
        {
          "output_type": "stream",
          "text": [
            "The Lone Ranger (tt1210819)\n"
          ],
          "name": "stdout"
        }
      ]
    },
    {
      "cell_type": "code",
      "metadata": {
        "id": "4Dd1JeGldwJj"
      },
      "source": [
        "answers['10'] = 'The Lone Ranger (tt1210819)'"
      ],
      "execution_count": null,
      "outputs": []
    },
    {
      "cell_type": "markdown",
      "metadata": {
        "id": "EA7Sa9dkVp_I"
      },
      "source": [
        "# 11. Какого жанра фильмов больше всего?"
      ]
    },
    {
      "cell_type": "code",
      "metadata": {
        "id": "otO3SbrSVp_N",
        "colab": {
          "base_uri": "https://localhost:8080/"
        },
        "outputId": "82b4268f-a03e-4286-81cd-7b7b04ea3678"
      },
      "source": [
        "data11 = data.copy()\n",
        "\n",
        "data11.genres = data11.genres.str.split('|', expand=False)\n",
        "data11 = data11.explode('genres')\n",
        "\n",
        "genres_pvt11 = data11.pivot_table (values = ['imdb_id'],\n",
        "index=['genres'],\n",
        "aggfunc='count',\n",
        "fill_value=0,\n",
        "margins=True)\n",
        "\n",
        "print(genres_pvt11['imdb_id'].\n",
        "      sort_values(ascending = False).index[1])"
      ],
      "execution_count": null,
      "outputs": [
        {
          "output_type": "stream",
          "text": [
            "Drama\n"
          ],
          "name": "stdout"
        }
      ]
    },
    {
      "cell_type": "code",
      "metadata": {
        "id": "-Jv_McqKd3Wy"
      },
      "source": [
        "answers['11'] = 'Drama'"
      ],
      "execution_count": null,
      "outputs": []
    },
    {
      "cell_type": "markdown",
      "metadata": {
        "id": "T9_bPWpkVp_Q"
      },
      "source": [
        "# 12. Какого жанра среди прибыльных фильмов больше всего?"
      ]
    },
    {
      "cell_type": "code",
      "metadata": {
        "id": "Tmt8MaK1Vp_R",
        "colab": {
          "base_uri": "https://localhost:8080/"
        },
        "outputId": "38465267-3604-49c3-d4f2-5366dcd6fdc2"
      },
      "source": [
        "# убираем из датафрейма неприбыльные фильмы\n",
        "data_profitable = data[ data.profit > 0 ].copy()\n",
        "\n",
        "# получаем датафрейм с разбивкой по отдельным жанрам\n",
        "data_profitable.genres = data_profitable.genres.str.split('|', expand=False)\n",
        "data_profitable = data_profitable.explode('genres')\n",
        "\n",
        "# вывод результата\n",
        "print(\n",
        "data_profitable.groupby( \n",
        "    by='genres'\n",
        "    ).count()['imdb_id'].sort_values(ascending=False).index[0]\n",
        ")\n"
      ],
      "execution_count": null,
      "outputs": [
        {
          "output_type": "stream",
          "text": [
            "Drama\n"
          ],
          "name": "stdout"
        }
      ]
    },
    {
      "cell_type": "code",
      "metadata": {
        "id": "cbc0-ZXaeXiA"
      },
      "source": [
        "answers['12'] = 'Drama'"
      ],
      "execution_count": null,
      "outputs": []
    },
    {
      "cell_type": "markdown",
      "metadata": {
        "id": "0F23bgsDVp_U"
      },
      "source": [
        "# 13. У какого режиссера самые большие суммарные кассовые сборы?"
      ]
    },
    {
      "cell_type": "code",
      "metadata": {
        "id": "K6Z3J8ygVp_X",
        "colab": {
          "base_uri": "https://localhost:8080/"
        },
        "outputId": "261fdb02-2524-4b15-f5f3-6942da00f02a"
      },
      "source": [
        "data13 = data.copy()\n",
        "\n",
        "# разбиваем датафрейм по отдельным режиссерам\n",
        "# на случай, если у фильма более одного режиссера\n",
        "data13.director = data13.director.str.split('|', expand=False)\n",
        "data_expl13 = data.explode('director')\n",
        "\n",
        "gp13 = data_expl13.groupby(by='director').sum()['profit']\n",
        "\n",
        "# вывод результата\n",
        "print (gp13[gp13 == gp13.max()].index[0])"
      ],
      "execution_count": null,
      "outputs": [
        {
          "output_type": "stream",
          "text": [
            "Peter Jackson\n"
          ],
          "name": "stdout"
        }
      ]
    },
    {
      "cell_type": "code",
      "metadata": {
        "id": "281TzrhHe3sb"
      },
      "source": [
        "answers['13'] = 'Peter Jackson'"
      ],
      "execution_count": null,
      "outputs": []
    },
    {
      "cell_type": "markdown",
      "metadata": {
        "id": "PsYC9FgRVp_a"
      },
      "source": [
        "# 14. Какой режисер снял больше всего фильмов в стиле Action?"
      ]
    },
    {
      "cell_type": "code",
      "metadata": {
        "id": "wd2M-wHeVp_b",
        "colab": {
          "base_uri": "https://localhost:8080/"
        },
        "outputId": "6c54e328-8b9a-4a6b-8072-ceffd9f86864"
      },
      "source": [
        "data14 = data.copy()\n",
        "\n",
        "data14.director = data14.director.str.split('|', expand=False)\n",
        "data14 = data14.explode('director')\n",
        "\n",
        "data14.genres = data14.genres.str.split('|', expand=False)\n",
        "data14 = data14.explode('genres')\n",
        "\n",
        "pvt14 = data14.pivot_table (values = ['imdb_id'],\n",
        "index = ['genres'],\n",
        "columns = ['director'],\n",
        "aggfunc = 'count',\n",
        "fill_value = 0,\n",
        "margins = False\n",
        ")\n",
        "\n",
        "max_action = pvt14.loc[\"Action\"]\n",
        "print(max_action[max_action == max_action.max()].index[0][1])"
      ],
      "execution_count": null,
      "outputs": [
        {
          "output_type": "stream",
          "text": [
            "Robert Rodriguez\n"
          ],
          "name": "stdout"
        }
      ]
    },
    {
      "cell_type": "code",
      "metadata": {
        "id": "zqk4t7crf3WQ"
      },
      "source": [
        "answers['14'] = 'Robert Rodriguez'"
      ],
      "execution_count": null,
      "outputs": []
    },
    {
      "cell_type": "markdown",
      "metadata": {
        "id": "PQ0KciD7Vp_f"
      },
      "source": [
        "# 15. Фильмы с каким актером принесли самые высокие кассовые сборы в 2012 году?"
      ]
    },
    {
      "cell_type": "code",
      "metadata": {
        "id": "aga62oeKVp_g",
        "colab": {
          "base_uri": "https://localhost:8080/"
        },
        "outputId": "e4572c50-d3b6-4060-a03e-e9416c64817b"
      },
      "source": [
        "data15 = data.copy()\n",
        "\n",
        "data15.cast = data15.cast.str.split('|', expand=False)\n",
        "data15 = data15.explode('cast')\n",
        "\n",
        "data15 = data15[\n",
        "                          data15.release_year == 2012\n",
        "                          ].groupby\n",
        "    data15[data15.revenue == data15.revenue.max()].index[0]\n",
        ")\n"
      ],
      "execution_count": null,
      "outputs": [
        {
          "output_type": "stream",
          "text": [
            "Chris Hemsworth\n"
          ],
          "name": "stdout"
        }
      ]
    },
    {
      "cell_type": "code",
      "metadata": {
        "id": "rfDW57BABz7K"
      },
      "source": [
        "answers['15'] = 'Chris Hemsworth'"
      ],
      "execution_count": null,
      "outputs": []
    },
    {
      "cell_type": "markdown",
      "metadata": {
        "id": "mWHyyL7QVp_j"
      },
      "source": [
        "# 16. Какой актер снялся в большем количестве высокобюджетных фильмов?"
      ]
    },
    {
      "cell_type": "code",
      "metadata": {
        "id": "qQtmHKTFVp_k",
        "colab": {
          "base_uri": "https://localhost:8080/"
        },
        "outputId": "193d9160-833e-407d-c2ca-e11292a4223a"
      },
      "source": [
        "data_expl16 = data.copy()\n",
        "\n",
        "data_expl16.cast = data_expl16.cast.str.split('|', expand=False)\n",
        "data_expl16 = data_expl16.explode('cast')\n",
        "\n",
        "data_expl16 = data_expl16[data_expl16.budget > data_expl16.budget.mean()]\n",
        "print(data_expl16['cast'].value_counts().index[0])\n"
      ],
      "execution_count": null,
      "outputs": [
        {
          "output_type": "stream",
          "text": [
            "Matt Damon\n"
          ],
          "name": "stdout"
        }
      ]
    },
    {
      "cell_type": "code",
      "metadata": {
        "id": "5dw41wlBUSgJ"
      },
      "source": [
        "answers['16'] = 'Matt Damon'"
      ],
      "execution_count": null,
      "outputs": []
    },
    {
      "cell_type": "markdown",
      "metadata": {
        "id": "NIh6AaW5Vp_n"
      },
      "source": [
        "# 17. В фильмах какого жанра больше всего снимался Nicolas Cage?"
      ]
    },
    {
      "cell_type": "code",
      "metadata": {
        "id": "H74SJDIBVp_n",
        "colab": {
          "base_uri": "https://localhost:8080/"
        },
        "outputId": "c3673f6e-b1e3-4f1c-9d78-9701626c53c7"
      },
      "source": [
        "data_expl17 = data.copy()\n",
        "\n",
        "data_expl17.cast = data_expl17.cast.str.split('|', expand=False)\n",
        "data_expl17 = data_expl17.explode('cast')\n",
        "\n",
        "data_expl17.genres = data_expl17.genres.str.split('|', expand=False)\n",
        "data_expl17 = data_expl17.explode('genres')\n",
        "\n",
        "se17 = data_expl17[\n",
        "               data_expl17.cast == 'Nicolas Cage'\n",
        "                ].groupby(by='genres').count().imdb_id\n",
        "print(se17[se17==se17.max()].index[0])\n"
      ],
      "execution_count": null,
      "outputs": [
        {
          "output_type": "stream",
          "text": [
            "Action\n"
          ],
          "name": "stdout"
        }
      ]
    },
    {
      "cell_type": "code",
      "metadata": {
        "id": "eus_42ECIX20"
      },
      "source": [
        "answers['17'] = 'Action'\n"
      ],
      "execution_count": null,
      "outputs": []
    },
    {
      "cell_type": "markdown",
      "metadata": {
        "id": "RqOmPRfWVp_q"
      },
      "source": [
        "# 18. Самый убыточный фильм от Paramount Pictures"
      ]
    },
    {
      "cell_type": "code",
      "metadata": {
        "id": "9E_B0Y96Vp_r",
        "colab": {
          "base_uri": "https://localhost:8080/"
        },
        "outputId": "6e5c8c79-ae66-4e0d-91c5-bc03b94e07ed"
      },
      "source": [
        "data_expl18 = data.copy()\n",
        "\n",
        "data_expl18.production_companies = data_expl18.production_companies.str.split(\n",
        "    '|', expand=False)\n",
        "data_expl18 = data_expl18.explode('production_companies')\n",
        " \n",
        "data_expl18 = data_expl18[data_expl18.production_companies == 'Paramount Pictures']\n",
        "df18 = data_expl18[data_expl18.profit == \n",
        "                             data_expl18.profit.min()]\n",
        "title18 = df18['original_title'].values[0]\n",
        "id18 = df18['imdb_id'].values[0]\n",
        " \n",
        "print( title18 + ' (' + id18 + ')')"
      ],
      "execution_count": null,
      "outputs": [
        {
          "output_type": "stream",
          "text": [
            "K-19: The Widowmaker (tt0267626)\n"
          ],
          "name": "stdout"
        }
      ]
    },
    {
      "cell_type": "code",
      "metadata": {
        "id": "Mc-9stTsXKLi"
      },
      "source": [
        "answers['18'] = 'K-19: The Widowmaker (tt0267626)'"
      ],
      "execution_count": null,
      "outputs": []
    },
    {
      "cell_type": "markdown",
      "metadata": {
        "id": "vS8Ur6ddVp_u"
      },
      "source": [
        "# 19. Какой год стал самым успешным по суммарным кассовым сборам?"
      ]
    },
    {
      "cell_type": "code",
      "metadata": {
        "id": "Dnbt4GdIVp_v",
        "colab": {
          "base_uri": "https://localhost:8080/"
        },
        "outputId": "ee5708b5-1bbb-4a10-e53b-f3af159000c5"
      },
      "source": [
        "se19 = data.groupby(by='release_year').sum().revenue\n",
        "se19[se19 == se19.max()].index[0]"
      ],
      "execution_count": null,
      "outputs": [
        {
          "output_type": "execute_result",
          "data": {
            "text/plain": [
              "2015"
            ]
          },
          "metadata": {
            "tags": []
          },
          "execution_count": 828
        }
      ]
    },
    {
      "cell_type": "code",
      "metadata": {
        "id": "l0GzJUQaY980"
      },
      "source": [
        "answers['19'] = 2015"
      ],
      "execution_count": null,
      "outputs": []
    },
    {
      "cell_type": "markdown",
      "metadata": {
        "id": "JAzJh4QAVp_z"
      },
      "source": [
        "# 20. Какой самый прибыльный год для студии Warner Bros?"
      ]
    },
    {
      "cell_type": "code",
      "metadata": {
        "id": "wgVu02DEVp_0",
        "colab": {
          "base_uri": "https://localhost:8080/"
        },
        "outputId": "161bf49d-22aa-410c-9c67-ffc9a732aee3"
      },
      "source": [
        "data20 = data.copy()\n",
        "\n",
        "data20.production_companies = data20.production_companies.str.split(\n",
        "    '|', expand=False )\n",
        "\n",
        "data20 = data20.explode(\n",
        "    'production_companies')\n",
        "\n",
        "se20 = data20[\n",
        "              data20.production_companies.str.contains('Warner Bros')\n",
        "              ].groupby(by='release_year').sum().profit\n",
        "\n",
        "print (se20[se20 == se20.max()].index[0])"
      ],
      "execution_count": null,
      "outputs": [
        {
          "output_type": "stream",
          "text": [
            "2014\n"
          ],
          "name": "stdout"
        }
      ]
    },
    {
      "cell_type": "code",
      "metadata": {
        "id": "9EcY4j5fa8xN"
      },
      "source": [
        "answers['20'] = 2015"
      ],
      "execution_count": null,
      "outputs": []
    },
    {
      "cell_type": "markdown",
      "metadata": {
        "id": "8Im1S2HRVp_4"
      },
      "source": [
        "# 21. В каком месяце за все годы суммарно вышло больше всего фильмов?"
      ]
    },
    {
      "cell_type": "code",
      "metadata": {
        "id": "lev6TH7gVp_4",
        "colab": {
          "base_uri": "https://localhost:8080/"
        },
        "outputId": "340aa826-5c2d-4571-dc83-e1713be5ed91"
      },
      "source": [
        "data21 = data.copy()\n",
        "\n",
        "data21.groupby(by='month').count()\n",
        "\n",
        "print (months[data.month.value_counts().index[0]])\n"
      ],
      "execution_count": null,
      "outputs": [
        {
          "output_type": "stream",
          "text": [
            "сентябрь\n"
          ],
          "name": "stdout"
        }
      ]
    },
    {
      "cell_type": "code",
      "metadata": {
        "id": "kx1CL67pdzPu"
      },
      "source": [
        "answers['21'] = 'сентябрь'"
      ],
      "execution_count": null,
      "outputs": []
    },
    {
      "cell_type": "markdown",
      "metadata": {
        "id": "uAJsZ_NeVp_7"
      },
      "source": [
        "# 22. Сколько суммарно вышло фильмов летом? (за июнь, июль, август)"
      ]
    },
    {
      "cell_type": "code",
      "metadata": {
        "id": "Aa-hEREoVp_8",
        "colab": {
          "base_uri": "https://localhost:8080/"
        },
        "outputId": "40a74e6e-624a-4a1e-f76f-84fa4b8ee51e"
      },
      "source": [
        "data22 = data.copy()\n",
        "\n",
        "data22['month'] = data22.release_date.apply(lambda x: x.month)\n",
        "\n",
        "data22[(data22.month >= 6) & (data22.month <= 8)]['imdb_id'].nunique()"
      ],
      "execution_count": null,
      "outputs": [
        {
          "output_type": "execute_result",
          "data": {
            "text/plain": [
              "450"
            ]
          },
          "metadata": {
            "tags": []
          },
          "execution_count": 834
        }
      ]
    },
    {
      "cell_type": "code",
      "metadata": {
        "id": "902dTOWD6VoC"
      },
      "source": [
        "answers['22'] = 450"
      ],
      "execution_count": null,
      "outputs": []
    },
    {
      "cell_type": "markdown",
      "metadata": {
        "id": "G94ppOY1VqAA"
      },
      "source": [
        "# 23. Для какого режиссера зима – самое продуктивное время года? "
      ]
    },
    {
      "cell_type": "code",
      "metadata": {
        "id": "RhNTsamuVqAB",
        "colab": {
          "base_uri": "https://localhost:8080/"
        },
        "outputId": "522c16d9-25d7-4cf9-d50f-c951994d4180"
      },
      "source": [
        "data23 = data.copy()\n",
        "\n",
        "data23['month'] = data23.release_date.apply(lambda x: x.month)\n",
        "\n",
        "data23.director = data23.director.str.split('|', expand=False)\n",
        "data23 = data23.explode('director')\n",
        "\n",
        "print(\n",
        "    data23[(data23.month == 12) |\n",
        "              (data23.month <= 2)]['director'].value_counts().index[0]\n",
        ")"
      ],
      "execution_count": null,
      "outputs": [
        {
          "output_type": "stream",
          "text": [
            "Peter Jackson\n"
          ],
          "name": "stdout"
        }
      ]
    },
    {
      "cell_type": "code",
      "metadata": {
        "id": "DrFx6ICT4a3M"
      },
      "source": [
        "answers['23'] = 'Peter Jackson'"
      ],
      "execution_count": null,
      "outputs": []
    },
    {
      "cell_type": "markdown",
      "metadata": {
        "id": "RBo0JVjVVqAF"
      },
      "source": [
        "# 24. Какая студия дает самые длинные названия своим фильмам по количеству символов?"
      ]
    },
    {
      "cell_type": "code",
      "metadata": {
        "id": "QRGS8L0iVqAG",
        "colab": {
          "base_uri": "https://localhost:8080/"
        },
        "outputId": "ba3bb6ad-8796-4252-ad8a-0c5436afea12"
      },
      "source": [
        "data24 = data.copy()\n",
        "\n",
        "data24.production_companies = data24.production_companies.str.split(\n",
        "    '|', expand=False)\n",
        "data24 = data24.explode('production_companies')\n",
        "\n",
        "print(data24.groupby(\n",
        "    'production_companies').mean().ot_length.sort_values(\n",
        "        ascending=False).index[0]\n",
        "      )"
      ],
      "execution_count": null,
      "outputs": [
        {
          "output_type": "stream",
          "text": [
            "Four By Two Productions\n"
          ],
          "name": "stdout"
        }
      ]
    },
    {
      "cell_type": "code",
      "metadata": {
        "id": "e_f3FSbgOTjm"
      },
      "source": [
        "answers['24'] = 'Four By Two Productions'"
      ],
      "execution_count": null,
      "outputs": []
    },
    {
      "cell_type": "markdown",
      "metadata": {
        "id": "9G0hbvR7VqAK"
      },
      "source": [
        "# 25. Описание фильмов какой студии\n",
        "# в среднем самые длинные по количеству слов?"
      ]
    },
    {
      "cell_type": "code",
      "metadata": {
        "id": "Ge2GsLNxVqAK",
        "colab": {
          "base_uri": "https://localhost:8080/"
        },
        "outputId": "d8efe4aa-012b-4f12-be53-bbaf38ee868f"
      },
      "source": [
        "data25 = data.copy()\n",
        "\n",
        "data25.production_companies = data25.production_companies.str.split(\n",
        "    '|', expand=False\n",
        "    )\n",
        "data25 = data25.explode('production_companies')\n",
        "\n",
        "print(data25.groupby(\n",
        "    'production_companies').mean().words_in_overview.sort_values(\n",
        "        ascending=False).index[0])"
      ],
      "execution_count": null,
      "outputs": [
        {
          "output_type": "stream",
          "text": [
            "Midnight Picture Show\n"
          ],
          "name": "stdout"
        }
      ]
    },
    {
      "cell_type": "code",
      "metadata": {
        "id": "AK-_jBArAApV"
      },
      "source": [
        "answers['25'] = 'Midnight Picture Show'"
      ],
      "execution_count": null,
      "outputs": []
    },
    {
      "cell_type": "markdown",
      "metadata": {
        "id": "FJ1AFt90VqAP"
      },
      "source": [
        "# 26. Какие фильмы входят в 1 процент лучших по рейтингу?\n",
        "по vote_average"
      ]
    },
    {
      "cell_type": "code",
      "metadata": {
        "id": "8qmJVq4CVqAQ",
        "colab": {
          "base_uri": "https://localhost:8080/"
        },
        "outputId": "b3505755-8f9e-4de5-e5e1-c8be8e22327e"
      },
      "source": [
        "# задаем порог в процентах лучших фильмов по рейтингу\n",
        "best_percentage = 1\n",
        "\n",
        "# вычисляем соотв. порогу квантиль\n",
        "best_percentage_quantile = data.vote_average.quantile(1 - best_percentage/100)\n",
        "\n",
        "print (\n",
        "    data[data.vote_average > best_percentage_quantile]['original_title'].values\n",
        ")\n"
      ],
      "execution_count": null,
      "outputs": [
        {
          "output_type": "stream",
          "text": [
            "['Inside Out' 'Room' 'Interstellar' 'Guardians of the Galaxy'\n",
            " 'The Imitation Game' 'Gone Girl' 'The Grand Budapest Hotel' 'Inception'\n",
            " 'The Dark Knight' 'The Pianist'\n",
            " 'The Lord of the Rings: The Return of the King' 'The Wolf of Wall Street'\n",
            " '12 Years a Slave' 'Memento']\n"
          ],
          "name": "stdout"
        }
      ]
    },
    {
      "cell_type": "code",
      "metadata": {
        "id": "RcTnjIqpk3uT"
      },
      "source": [
        "answers['26'] = ['Inside Out', 'The Dark Knight', '12 Years a Slave']"
      ],
      "execution_count": null,
      "outputs": []
    },
    {
      "cell_type": "markdown",
      "metadata": {
        "id": "MdXsUXbCVqAV"
      },
      "source": [
        "# 27. Какие актеры чаще всего снимаются в одном фильме вместе?\n"
      ]
    },
    {
      "cell_type": "code",
      "metadata": {
        "colab": {
          "base_uri": "https://localhost:8080/"
        },
        "id": "zElwMjCROz6e",
        "outputId": "ff5e66ec-25e2-45fe-86c5-76d299e99999"
      },
      "source": [
        "data27 = data.copy()\n",
        "\n",
        "data27.cast = data27.cast.str.split('|', expand=False)\n",
        "\n",
        "# в столбце 'cast' строка с актерским составом меняется на список из\n",
        "# кортежей всевозможных пар актеров, игравших в данном фильме -\n",
        "# так мы получаем пары актеров, игравших хотя бы в одном фильме вместе\n",
        "data27.cast = data27.cast.apply(\n",
        "    lambda actor: list(combinations(actor, 2)))\n",
        "\n",
        "# разбиваем датафрейм по парам актеров\n",
        "data_valid_pairs = data27.explode('cast')\n",
        "\n",
        "# считаем, какая пара актеров встречается чаще всего\n",
        "data_valid_pairs.groupby(\n",
        "    by='cast'\n",
        "    ).count()[\n",
        "              'imdb_id'\n",
        "                      ].sort_values(ascending=False).index[1]\n"
      ],
      "execution_count": null,
      "outputs": [
        {
          "output_type": "execute_result",
          "data": {
            "text/plain": [
              "('Daniel Radcliffe', 'Rupert Grint')"
            ]
          },
          "metadata": {
            "tags": []
          },
          "execution_count": 844
        }
      ]
    },
    {
      "cell_type": "code",
      "metadata": {
        "id": "ctX3ZnQQYr_s"
      },
      "source": [
        "answers['27'] = ('Daniel Radcliffe', 'Rupert Grint')"
      ],
      "execution_count": null,
      "outputs": []
    },
    {
      "cell_type": "markdown",
      "metadata": {
        "id": "U0nONFnGVqAX"
      },
      "source": [
        "# Submission"
      ]
    },
    {
      "cell_type": "code",
      "metadata": {
        "id": "IfcaRO9-VqAX",
        "colab": {
          "base_uri": "https://localhost:8080/"
        },
        "outputId": "8c8b3a13-da20-43c8-d2b4-fbdc772a831b"
      },
      "source": [
        "answers"
      ],
      "execution_count": null,
      "outputs": [
        {
          "output_type": "execute_result",
          "data": {
            "text/plain": [
              "{'01': 'Pirates of the Caribbean: On Stranger Tides (tt1298650)',\n",
              " '02': 'Gods and Generals (tt0279111)',\n",
              " '03': 'Winnie the Pooh (tt1449283)',\n",
              " '04': '110',\n",
              " '05': '107',\n",
              " '06': 'Avatar (tt0499549)',\n",
              " '07': 'The Lone Ranger (tt1210819)',\n",
              " '08': 1478,\n",
              " '09': 'The Dark Knight',\n",
              " '10': 'The Lone Ranger (tt1210819)',\n",
              " '11': 'Drama',\n",
              " '12': 'Drama',\n",
              " '13': 'Peter Jackson',\n",
              " '14': 'Robert Rodriguez',\n",
              " '15': 'Chris Hemsworth',\n",
              " '16': 'Matt Damon',\n",
              " '17': 'Action',\n",
              " '18': 'K-19: The Widowmaker (tt0267626)',\n",
              " '19': 2015,\n",
              " '20': 2015,\n",
              " '21': 'сентябрь',\n",
              " '22': 450,\n",
              " '23': 'Peter Jackson',\n",
              " '24': 'Four By Two Productions',\n",
              " '25': 'Midnight Picture Show',\n",
              " '26': ['Inside Out', 'The Dark Knight', '12 Years a Slave'],\n",
              " '27': ('Daniel Radcliffe', 'Rupert Grint')}"
            ]
          },
          "metadata": {
            "tags": []
          },
          "execution_count": 846
        }
      ]
    },
    {
      "cell_type": "code",
      "metadata": {
        "id": "SiRmHPl8VqAd",
        "colab": {
          "base_uri": "https://localhost:8080/"
        },
        "outputId": "0f58fd2e-854a-4e3f-cc30-e8fff09be864"
      },
      "source": [
        "# и убедиться что ни чего не пропустил)\n",
        "len(answers)\n"
      ],
      "execution_count": null,
      "outputs": [
        {
          "output_type": "execute_result",
          "data": {
            "text/plain": [
              "27"
            ]
          },
          "metadata": {
            "tags": []
          },
          "execution_count": 847
        }
      ]
    }
  ]
}
